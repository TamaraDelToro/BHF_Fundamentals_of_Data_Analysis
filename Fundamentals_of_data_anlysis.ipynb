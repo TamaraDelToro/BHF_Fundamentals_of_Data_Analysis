{
  "nbformat": 4,
  "nbformat_minor": 0,
  "metadata": {
    "colab": {
      "provenance": [],
      "toc_visible": true,
      "authorship_tag": "ABX9TyMcOnmXrTQLUhEHG4pACkEj",
      "include_colab_link": true
    },
    "kernelspec": {
      "name": "python3",
      "display_name": "Python 3"
    },
    "language_info": {
      "name": "python"
    }
  },
  "cells": [
    {
      "cell_type": "markdown",
      "metadata": {
        "id": "view-in-github",
        "colab_type": "text"
      },
      "source": [
        "<a href=\"https://colab.research.google.com/github/TamaraDelToro/BHF_Fundamentals_of_Data_Analysis/blob/main/Fundamentals_of_data_anlysis.ipynb\" target=\"_parent\"><img src=\"https://colab.research.google.com/assets/colab-badge.svg\" alt=\"Open In Colab\"/></a>"
      ]
    },
    {
      "cell_type": "markdown",
      "source": [
        "# Some title"
      ],
      "metadata": {
        "id": "UwNMlZIztZr8"
      }
    },
    {
      "cell_type": "markdown",
      "source": [
        "# Understanding data types and properties of data\n",
        "**Data distributions and why they matter**\n",
        "\n",
        "The distribution of your observations alone holds a lot of information about the data you are looking at.\n",
        "\n",
        "I won't explain what differet distributions there are as you probably already know the main ones, and these will become clearer as you work with your data.\n",
        "\n",
        "Instead lets have a little play to say how exploring data distributions might be a useful first explorations for your data analysis.\n",
        "\n",
        "Firstly, lets define the experiment:\n",
        "\n",
        "We are collecting heart rate data from participants taking a new drug for heart failure.\n"
      ],
      "metadata": {
        "id": "TMC0awhmYPIv"
      }
    },
    {
      "cell_type": "code",
      "source": [
        "# Import libraries\n",
        "import numpy as np\n",
        "import pandas as pd\n",
        "import matplotlib.pyplot as plt\n",
        "\n",
        "# Generate random normal distribution data for resting heart rates (in bpm)\n",
        "np.random.seed(42)  # For reproducibility\n",
        "heart_rates_normal = np.random.normal(loc=70, scale=10, size=500)  # Normal distribution\n",
        "\n",
        "# add extra values\n",
        "heart_rates_data = np.append(heart_rates_normal, [200, 210, 215])  # Adding extra readings"
      ],
      "metadata": {
        "id": "dW0-GWUrfwf4"
      },
      "execution_count": null,
      "outputs": []
    },
    {
      "cell_type": "code",
      "source": [
        "# Plot the data with faulty values\n",
        "plt.figure(figsize=(8, 5))\n",
        "plt.hist(heart_rates_data, bins=30, color='skyblue', edgecolor='black')\n",
        "plt.title(\"Distribution of Resting Heart Rates\")\n",
        "plt.xlabel(\"Resting Heart Rate (bpm)\")\n",
        "plt.ylabel(\"Frequency\")\n",
        "plt.show()"
      ],
      "metadata": {
        "colab": {
          "base_uri": "https://localhost:8080/",
          "height": 487
        },
        "id": "PCIgU75jgJNy",
        "outputId": "792ba77c-2644-4719-bab3-c4f23893ac45"
      },
      "execution_count": null,
      "outputs": [
        {
          "output_type": "display_data",
          "data": {
            "text/plain": [
              "<Figure size 800x500 with 1 Axes>"
            ],
            "image/png": "[encoded data removed]"
          },
          "metadata": {}
        }
      ]
    },
    {
      "cell_type": "markdown",
      "source": [
        "As you can see the distribution in our graph isn't normal.\n",
        "After a few more exploration steps you realise all the outliers come from the same heart rate monitor, which is faulty."
      ],
      "metadata": {
        "id": "SwxlfiaZqSHA"
      }
    },
    {
      "cell_type": "markdown",
      "source": [
        "# Exploratory Data analysis\n",
        "\n",
        "Lets see how carrying out some initial exploratory analysis of our data can help us plan further work.\n",
        "\n",
        "Story of the analysis."
      ],
      "metadata": {
        "id": "Pg3pxzAIkhI9"
      }
    },
    {
      "cell_type": "code",
      "source": [
        "# Load the dataset directly from UCI Machine Learning Repository\n",
        "url = \"https://archive.ics.uci.edu/ml/machine-learning-databases/heart-disease/processed.cleveland.data\"\n",
        "columns = [\"age\", \"sex\", \"cp\", \"trestbps\", \"chol\", \"fbs\", \"restecg\", \"thalach\", \"exang\", \"oldpeak\", \"slope\", \"ca\", \"thal\", \"target\"]\n",
        "\n",
        "# Load the dataset\n",
        "df = pd.read_csv(url, names=columns)\n",
        "\n",
        "# Show the first few rows of the dataset\n",
        "df.head()"
      ],
      "metadata": {
        "id": "hmhMZQ8ktvQB"
      },
      "execution_count": null,
      "outputs": []
    },
    {
      "cell_type": "code",
      "source": [
        "# Check the shape of the dataset\n",
        "print(f\"Dataset shape: {df.shape}\") # lets you see how many rows and colums you have. Do you have as expected?\n",
        "\n",
        "# Check for missing values or unusual data types\n",
        "df.info()"
      ],
      "metadata": {
        "id": "uvkYgAPBuCBw"
      },
      "execution_count": null,
      "outputs": []
    },
    {
      "cell_type": "code",
      "source": [
        "# Summary statistics for numerical columns\n",
        "df.describe() # Produce summary statistics (mean, median, standard deviation, ect) for numerical columns"
      ],
      "metadata": {
        "id": "a_XVfuEquk7-"
      },
      "execution_count": null,
      "outputs": []
    },
    {
      "cell_type": "markdown",
      "source": [
        "Why do you think this might be an important step in data analysis?"
      ],
      "metadata": {
        "id": "6CqDvZU6u9id"
      }
    },
    {
      "cell_type": "markdown",
      "source": [
        "As part of your data pre-procesing, you will handle any missing data.\n",
        "Lets see how you can do that in python:"
      ],
      "metadata": {
        "id": "_G9XejkZvGmm"
      }
    },
    {
      "cell_type": "code",
      "source": [
        "# Replace '?' with NaN to identify missing data\n",
        "df.replace(\"?\", pd.NA, inplace=True)\n",
        "\n",
        "# Convert appropriate columns to numeric where necessary\n",
        "df[\"ca\"] = pd.to_numeric(df[\"ca\"], errors='coerce')\n",
        "df[\"thal\"] = pd.to_numeric(df[\"thal\"], errors='coerce')\n",
        "\n",
        "# Check how many missing values exist\n",
        "df.isnull().sum()\n",
        "\n"
      ],
      "metadata": {
        "colab": {
          "base_uri": "https://localhost:8080/",
          "height": 523
        },
        "collapsed": true,
        "id": "9TjxrxIHvC6u",
        "outputId": "9191ea43-b940-4dd9-d98e-91e390a22444"
      },
      "execution_count": null,
      "outputs": [
        {
          "output_type": "execute_result",
          "data": {
            "text/plain": [
              "age         0\n",
              "sex         0\n",
              "cp          0\n",
              "trestbps    0\n",
              "chol        0\n",
              "fbs         0\n",
              "restecg     0\n",
              "thalach     0\n",
              "exang       0\n",
              "oldpeak     0\n",
              "slope       0\n",
              "ca          4\n",
              "thal        2\n",
              "target      0\n",
              "dtype: int64"
            ],
            "text/html": [
              "<div>\n",
              "<style scoped>\n",
              "    .dataframe tbody tr th:only-of-type {\n",
              "        vertical-align: middle;\n",
              "    }\n",
              "\n",
              "    .dataframe tbody tr th {\n",
              "        vertical-align: top;\n",
              "    }\n",
              "\n",
              "    .dataframe thead th {\n",
              "        text-align: right;\n",
              "    }\n",
              "</style>\n",
              "<table border=\"1\" class=\"dataframe\">\n",
              "  <thead>\n",
              "    <tr style=\"text-align: right;\">\n",
              "      <th></th>\n",
              "      <th>0</th>\n",
              "    </tr>\n",
              "  </thead>\n",
              "  <tbody>\n",
              "    <tr>\n",
              "      <th>age</th>\n",
              "      <td>0</td>\n",
              "    </tr>\n",
              "    <tr>\n",
              "      <th>sex</th>\n",
              "      <td>0</td>\n",
              "    </tr>\n",
              "    <tr>\n",
              "      <th>cp</th>\n",
              "      <td>0</td>\n",
              "    </tr>\n",
              "    <tr>\n",
              "      <th>trestbps</th>\n",
              "      <td>0</td>\n",
              "    </tr>\n",
              "    <tr>\n",
              "      <th>chol</th>\n",
              "      <td>0</td>\n",
              "    </tr>\n",
              "    <tr>\n",
              "      <th>fbs</th>\n",
              "      <td>0</td>\n",
              "    </tr>\n",
              "    <tr>\n",
              "      <th>restecg</th>\n",
              "      <td>0</td>\n",
              "    </tr>\n",
              "    <tr>\n",
              "      <th>thalach</th>\n",
              "      <td>0</td>\n",
              "    </tr>\n",
              "    <tr>\n",
              "      <th>exang</th>\n",
              "      <td>0</td>\n",
              "    </tr>\n",
              "    <tr>\n",
              "      <th>oldpeak</th>\n",
              "      <td>0</td>\n",
              "    </tr>\n",
              "    <tr>\n",
              "      <th>slope</th>\n",
              "      <td>0</td>\n",
              "    </tr>\n",
              "    <tr>\n",
              "      <th>ca</th>\n",
              "      <td>4</td>\n",
              "    </tr>\n",
              "    <tr>\n",
              "      <th>thal</th>\n",
              "      <td>2</td>\n",
              "    </tr>\n",
              "    <tr>\n",
              "      <th>target</th>\n",
              "      <td>0</td>\n",
              "    </tr>\n",
              "  </tbody>\n",
              "</table>\n",
              "</div><br><label><b>dtype:</b> int64</label>"
            ]
          },
          "metadata": {},
          "execution_count": 10
        }
      ]
    },
    {
      "cell_type": "markdown",
      "source": [
        "How many missing values do you have in this dataset?\n",
        "\n",
        "While we now know we dont always need to drop all missing values, but we can impute instead, we will just drop them in this case as theres not too many!"
      ],
      "metadata": {
        "id": "e4vCFzX9voIe"
      }
    },
    {
      "cell_type": "code",
      "source": [
        "# Optionally drop rows with missing data\n",
        "df.dropna(inplace=True)"
      ],
      "metadata": {
        "id": "q08HSqR8vbYG"
      },
      "execution_count": null,
      "outputs": []
    },
    {
      "cell_type": "markdown",
      "source": [
        "Vizualising your data is a great way to explore its distributions and initial patterns."
      ],
      "metadata": {
        "id": "KSJXW0Oqv6Gt"
      }
    },
    {
      "cell_type": "code",
      "source": [
        "import seaborn as sns\n",
        "import matplotlib.pyplot as plt\n",
        "\n",
        "# Countplot for the target variable\n",
        "sns.countplot(x=\"target\", data=df)\n",
        "plt.title(\"Heart Disease Distribution\")\n",
        "plt.show()"
      ],
      "metadata": {
        "colab": {
          "base_uri": "https://localhost:8080/",
          "height": 472
        },
        "collapsed": true,
        "id": "dKg245xzv5XU",
        "outputId": "38a31366-d082-464a-97ba-bff387ce15bc"
      },
      "execution_count": null,
      "outputs": [
        {
          "output_type": "display_data",
          "data": {
            "text/plain": [
              "<Figure size 640x480 with 1 Axes>"
            ],
            "image/png": "[encoded data removed]"
          },
          "metadata": {}
        }
      ]
    },
    {
      "cell_type": "code",
      "source": [
        "# Distribution of age\n",
        "sns.histplot(df['age'], kde=True, bins=20, color='blue')\n",
        "plt.title('Age Distribution')\n",
        "plt.xlabel('Age')\n",
        "plt.ylabel('Frequency')\n",
        "plt.show()"
      ],
      "metadata": {
        "id": "StTSehNewDmV"
      },
      "execution_count": null,
      "outputs": []
    },
    {
      "cell_type": "markdown",
      "source": [
        "As part of your exploratory analysis you might also explore how some of your variables might correlate to each other.\n",
        "\n",
        "A correlation heatmap is a great way to look at that!"
      ],
      "metadata": {
        "id": "mrS5M-orwMqs"
      }
    },
    {
      "cell_type": "code",
      "source": [
        "# Correlation matrix\n",
        "plt.figure(figsize=(12, 8))\n",
        "sns.heatmap(df.corr(), annot=True, cmap='coolwarm', fmt='.2f')\n",
        "plt.title('Correlation Heatmap')\n",
        "plt.show()"
      ],
      "metadata": {
        "id": "tPa91vctwTWT"
      },
      "execution_count": null,
      "outputs": []
    },
    {
      "cell_type": "markdown",
      "source": [
        "Or if you are a more advanced analyst you might use a pairplot!"
      ],
      "metadata": {
        "id": "rc-f_cL8wpcj"
      }
    },
    {
      "cell_type": "code",
      "source": [
        "# Pairplot of key features\n",
        "sns.pairplot(df[[\"age\", \"chol\", \"thalach\", \"trestbps\", \"target\"]], hue=\"target\", palette='Set1')\n",
        "plt.show()"
      ],
      "metadata": {
        "id": "-Rg-jjS3wcFU"
      },
      "execution_count": null,
      "outputs": []
    },
    {
      "cell_type": "markdown",
      "source": [
        "Lastly you might want to have a look at specific features instead.\n",
        "\n",
        "Let’s dive into specific features that might be relevant for cardiovascular research, such as cholesterol (chol), maximum heart rate (thalach), and resting blood pressure (trestbps)."
      ],
      "metadata": {
        "id": "IT53TKsSwz_i"
      }
    },
    {
      "cell_type": "code",
      "source": [
        "# Boxplot of cholesterol levels by heart disease status\n",
        "sns.boxplot(x=\"target\", y=\"chol\", data=df)\n",
        "plt.title('Cholesterol Levels vs. Heart Disease')\n",
        "plt.xlabel('Heart Disease')\n",
        "plt.ylabel('Cholesterol (mg/dl)')\n",
        "plt.show()"
      ],
      "metadata": {
        "id": "kFkwdOXww5dy"
      },
      "execution_count": null,
      "outputs": []
    },
    {
      "cell_type": "code",
      "source": [
        "# Scatter plot of max heart rate (thalach) and age, colored by heart disease\n",
        "plt.figure(figsize=(8, 5))\n",
        "sns.scatterplot(x=\"age\", y=\"thalach\", hue=\"target\", data=df, palette='Set1')\n",
        "plt.title(\"Max Heart Rate (Thalach) vs. Age\")\n",
        "plt.xlabel('Age')\n",
        "plt.ylabel('Max Heart Rate (Thalach)')\n",
        "plt.show()"
      ],
      "metadata": {
        "id": "27T1u7yyxCwy"
      },
      "execution_count": null,
      "outputs": []
    },
    {
      "cell_type": "markdown",
      "source": [
        "Through this simple exploratory data analysis we have covered quite a bit of ground towards doing some analysis, including exploring some relationships between features and the presence of heart disease by visualising the data.\n",
        "\n",
        "This exploratory analysis helps identify potential trends and relationships that can guide further modeling or hypothesis testing in cardiovascular research."
      ],
      "metadata": {
        "id": "Z_B0VXnlw5DL"
      }
    }
  ]
}